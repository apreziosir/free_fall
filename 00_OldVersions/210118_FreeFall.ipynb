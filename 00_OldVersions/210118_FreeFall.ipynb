{
 "cells": [
  {
   "cell_type": "code",
   "execution_count": 3,
   "id": "royal-sugar",
   "metadata": {},
   "outputs": [],
   "source": [
    "# Importando librerias \\n\",\n",
    "%reset -f\n",
    "%matplotlib nbagg\n",
    "\n",
    "# Rutinas que requiere el sistema.\n",
    "import numpy as np\n",
    "import matplotlib.pyplot as plt\n",
    "\n",
    "# Esto controla el tamaño de las figuras en el script\n",
    "plt.rcParams['figure.figsize'] = (10, 6)\n",
    "\n",
    "import ipywidgets as ipw\n",
    "from ipywidgets import widgets, interact_manual\n",
    "from IPython.display import Image\n",
    "\n",
    "# Las rutinas que calculan posiciones y velocidades\\n\",\n",
    "from F_FreeFall import FreeFall\n",
    "from FF_ideal import FF_V\n",
    "\n",
    "# Esto es para poder correr todo en linea\n",
    "ipw.interact_manual.opts['manual_name'] = \"CALCULAR!\"\n",
    "np.set_printoptions(formatter={'float': '{: 0.3f}'.format})"
   ]
  },
  {
   "cell_type": "code",
   "execution_count": null,
   "id": "fitting-attribute",
   "metadata": {},
   "outputs": [],
   "source": []
  }
 ],
 "metadata": {
  "kernelspec": {
   "display_name": "Python 3",
   "language": "python",
   "name": "python3"
  },
  "language_info": {
   "codemirror_mode": {
    "name": "ipython",
    "version": 3
   },
   "file_extension": ".py",
   "mimetype": "text/x-python",
   "name": "python",
   "nbconvert_exporter": "python",
   "pygments_lexer": "ipython3",
   "version": "3.8.5"
  }
 },
 "nbformat": 4,
 "nbformat_minor": 5
}
