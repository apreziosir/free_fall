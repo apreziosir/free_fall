{
 "cells": [
  {
   "cell_type": "code",
   "execution_count": 1,
   "metadata": {},
   "outputs": [],
   "source": [
    "# Importando librerias \n",
    "%reset -f\n",
    "\n",
    "# Rutinas que requiere el sistema. \n",
    "import numpy as np\n",
    "import matplotlib.pyplot as plt\n",
    "\n",
    "# Esto controla el tamaño de las figuras en el script \n",
    "plt.rcParams['figure.figsize'] = (16,8)\n",
    "\n",
    "import ipywidgets as ipw\n",
    "from ipywidgets import widgets, interact_manual\n",
    "from IPython.display import Image\n",
    "\n",
    "# Las rutinas que calculan posiciones y velocidades\n",
    "from F_FreeFall import FreeFall\n",
    "from FF_ideal import FF_V\n",
    "\n",
    "# Esto es para poder correr todo en linea\n",
    "ipw.interact_manual.opts['manual_name'] = \"CALCULAR!\"\n",
    "np.set_printoptions(formatter={'float': '{: 0.3f}'.format})\n"
   ]
  },
  {
   "cell_type": "markdown",
   "metadata": {},
   "source": [
    "# **CAÍDA LIBRE DE UNA ESFERA EN UN FLUIDO**\n",
    "\n",
    "<div  style=\"text-align: justify\" >El estudio del movimiento de partículas esféricas dentro de un fluido es de gran utilidad para revisar los conceptos de esfuerzo cortante, número de Reynolds y efectos de resistencia al movimiento por parte de un fluido a un cuerpo sólido. Para el experimento que se propone, imagine que una esfera de diámetro $D_p$ y densidad $\\rho_P$ que parte desde una posición $z \\ = \\ 0 \\ m$ ubicada en la parte alta de un espacio infinto lleno de un fluido con densidad $\\rho_F$ y viscosidad cinemática $\\nu_f$. En el instante en que la partícula es liberada, su velcidad inicial es $v_0 \\ = \\ 0 \\ m/s$ y para efectos prácticos, el eje $z$ del movimiento aumentará hacia abajo en el sentido del movimiento de la esfera (Figura 1).</div>\n",
    "\n",
    "<img src=\"201102_FreeFall_Image.png\" alt=\"fishy\" class=\"bg-primary mb-1\"  height=\"100px\">\n",
    "\n",
    "**Figura 1:** Esquema de una esfera cayendo en un fluido (Fuente: Biringen y Chow, 2011)."
   ]
  },
  {
   "cell_type": "markdown",
   "metadata": {},
   "source": [
    "<div  style=\"text-align: justify\" >Como es de esperarse, la esfera aumentará su velocidad a medida que cae gracias al efecto de la gravedad. No obstante, ese movimiento no será uniformemente acelerado, ya que existen fuerzas viscosas ocasionadas por la interacción entre la superficie de la esfera y el fluido que irán en contra del movimiento e impedirán su aceleración. Dentro de esas fuerzas se encuentran: *i)* La fricción, ocasionada por la viscosidad del fluido en el que está cayendo la esfera, *ii)* la fuerza de flotación, ocasionada por la diferencia de densidades, *iii)* la fuerza de cuerpo acelerando, ocasionada por los flujos que se crean alrededor de la esfera cuando empieza a moverse y *iv)* el arrastre de onda, presente cuando las velocidades del fluido empiezan a aumentar.</div>\n",
    "\n",
    "**Insertar imagen de ecuaciones de caída libre en el vacío.**\n",
    "\n",
    "<div  style=\"text-align: justify\" >Por lo tanto, los factores mencionados anteriormente tienen un impacto en las ecuaciones de la caída libre, ya que reducen la velocidad crítica a la cual la esfera puede llegar, y de la misma manera, reduce la cantidad de distancia que estás mismas pueden alcanzar en un mismo intervalo de tiempo mientras caen en el vacío. Cada uno de estos factores tiene un impacto diferente en la posición y velocidad de la particula, hay algunos que se aplican de la misma manera a las diferentes esferas (no son directamente proporcionales a los diferenciales de la masa), pero, a pesar de esto, el factor que pondera más sobre el las variables posición y velocidad, sigue siendo la gravedad. Pues si bien, los números de Reynolds y el arraste de que esta turbulencia genera aumenta conforme se aumenta el radio y la masa, el peso propio de la esfera seguira siendo el mayor factor. Como se muestra en la figura 2 y 3 la modelación teórica de las curvas de masa y velocidad se acercan a un comportamiento de caída libre en vacío mientras la masa aumenta, puesto que la diferencia entra la fuerza gravitacional y la totalidad de las cuatro fuerzas mencionadas (fricción, flotación, fuerza de campo acelerado y arrastre de onda) es directamente proporcional al aumento de la masa de la esfera.</div>\n"
   ]
  },
  {
   "cell_type": "markdown",
   "metadata": {},
   "source": [
    "**Variables utilizadas**\n",
    "\n",
    "A contiunuación se presenta una lista de las variables que se utilizan en el desdarrollo del presente taller con sus respectivas unidades de medida:\n",
    "\n",
    "$\\rho_f \\ (kg/m^3) \\ = \\ $ Densidad del fluido en el que cae la esfera \n",
    "\n",
    "$\\rho_p \\ (kg/m^3) \\ = \\ $ Densidad de la partícula que cae en el fluido\n",
    "\n",
    "$D_p \\ (mm) \\ = \\ $ Diámetro de la partícula que cae en el fluido\n",
    "\n",
    "$\\nu_f \\ (m^2/s) \\ = \\ $ Viscosidad cinemática del fluido "
   ]
  },
  {
   "cell_type": "markdown",
   "metadata": {},
   "source": [
    "**Suposiciones**\n",
    "\n",
    "* La posición inicial de la partícula es $z = 0 \\ m$ y $z$ aumenta en el sentido del movimiento\n",
    "* La partícula inicia su movimiento desde el reposo. Es decir, su velocidad inicial es $v_0 = 0 m/s$\n",
    "* La densidad de la partícula siempre debe ser mayor que la densidad del fluido para garantizar su caída\n",
    "* La fuerza de fricción ocasionada por el movimiento es proporcional al cuadrado de la velocidad $(F_f \\ \\alpha \\  \\lvert v \\rvert ^2)$\n",
    "\n",
    "**Valores iniciales**\n",
    "\n",
    "Para el desarrollo del presente problema se asume que una esfera de vidrio de diámtro $D_p \\ = \\ 10 \\ mm$ y densidad $\\rho_p \\ = \\ 2200 \\ kg/m^3$ cae en agua con densidad $\\rho_f \\ = \\ 1000 \\ kg/m^3$ y viscosidad cinemática $\\nu_f \\ = \\ 1,14 \\times 10^{-6} \\ m^2/s$.\n",
    "\n",
    "Estos valores se dberán cambiar para observar los cambios en la caída libre de diferentes objetos en diferentes fluidos. El estudiante deberá investigar las diferentes propiedades de los fluidos en cualquier libro de texto de la asignatura. "
   ]
  },
  {
   "cell_type": "code",
   "execution_count": 2,
   "metadata": {},
   "outputs": [],
   "source": [
    "# ===========================================================================\n",
    "# Se define una función que engloba todo y corre el problema de caída libre \n",
    "# cuando se definen los valores de los parámetros que se van a variar para\n",
    "# el desarrollo dle problema\n",
    "# ===========================================================================\n",
    "def RUN_ALL(rho_f, rho_p, nu, D):\n",
    "    \n",
    "    # Las condiciones iniciales del problema están \"hard coded\". No se puede\n",
    "    # cambiar esta situación a menos que se cambien las funciones que hacen \n",
    "    # los cálculos (Acá se ponen estas variables que son las mismas de la \n",
    "    # rutina de cálculos)\n",
    "    Z0 = 0\n",
    "    V0 = 0\n",
    "    h = 1e-3\n",
    "    tf = 3\n",
    "    \n",
    "    # Se construye la variable ANSW que almacenará los vectores que serán \n",
    "    # graficados. EL orden es el siguiente: T, Zi, Vi, Z, V\n",
    "    ANSW = np.zeros((5, int(tf / h) + 1))\n",
    "    \n",
    "    # Esto corre el caso ideal que no tiene fricción (la idea es poder \n",
    "    # comparar lo que sucede en los dos casos)\n",
    "    ANSW[1, :], ANSW[2, :] =  FF_V(Z0, V0, h, tf)\n",
    "    \n",
    "    # Esto corre lo referente al caso con fricción y rozamiento\n",
    "    ANSW[0, :], ANSW[3, :], ANSW[4, :] = FreeFall(rho_f, rho_p, nu, D)\n",
    "    \n",
    "    # Llamando a una función que haga gráficas bonitas en cuanto se refiere\n",
    "    # a colores, fuentes y manejo del espacio\n",
    "    plotresults(ANSW)\n",
    "    "
   ]
  },
  {
   "cell_type": "code",
   "execution_count": 3,
   "metadata": {},
   "outputs": [],
   "source": [
    "# ===========================================================================\n",
    "# Haciendo la figura yu poniéndola bonita para efectos de poder entrar a \n",
    "# hacerla en un app. Vamos a ver si la hacemos funcionar. \n",
    "# ===========================================================================\n",
    "def plotresults(ANSW):\n",
    "    \n",
    "    # plt.style.use('ggplot')\n",
    "    fig = plt.figure(facecolor=\"white\");\n",
    "    # fig = plt.subplots(nrows = 1, ncols = 2, sharey = True)\n",
    "        \n",
    "    # Para reducir espacio\n",
    "    Labels = [\"Posición teórica\", \"Posición real\", \"Velocidad Teórica\", \n",
    "             \"Velocidad Real\"]\n",
    "    \n",
    "    # Librería de colores (a lo mejor y no uso ninguno)\n",
    "    Colors = [\"darkmagenta\",\"darkgreen\",\"seagreen\",\"dodgerblue\",\"dimgrey\"]\n",
    "    FaceColors = [\"lavenderblush\",\"honeydew\",\"mintcream\",\"aliceblue\",\"whitesmoke\"]\n",
    "    \n",
    "    # Haciendo las gráficas por separado para que sea fácil poder cambiar\n",
    "    # No necesito hacer ciclos porque son muy pocas. \n",
    "    # Gráfica de posiciones contra tiempo\n",
    "    ax1 = plt.subplot(1, 2, 1)\n",
    "    ax1.plot(ANSW[0, :], ANSW[1, :], label = Labels[0], c = Colors[0], lw = 3, linestyle=':')\n",
    "    ax1.plot(ANSW[0, :], ANSW[3, :], label = Labels[1], c = Colors[0], lw = 3)\n",
    "    ax1.set_ylim([0, 4])\n",
    "    ax1.set_xlim([0, 2.5])\n",
    "    ax1.set_facecolor(FaceColors[0])\n",
    "    ax1.set_title('Posición vs tiempo', fontsize = 20)\n",
    "    ax1.set_xlabel(r'Tiempo $t(s)$', fontsize = 14)\n",
    "    ax1.set_ylabel(r'Posición $z(m)$', fontsize = 14)\n",
    "    ax1.grid(True)\n",
    "        \n",
    "    # Gráfica de velocidades\n",
    "    ax2 = plt.subplot(1, 2, 2)\n",
    "    ax2.plot(ANSW[0, :], ANSW[2, :], label = Labels[2] ,c = Colors[3], lw = 3, linestyle = ':')\n",
    "    ax2.plot(ANSW[0, :], ANSW[4, :], label = Labels[3], c = Colors[3], lw = 3)\n",
    "    ax2.set_ylim([0, 4])\n",
    "    ax2.set_xlim([0, 2.5])\n",
    "    ax2.set_facecolor(FaceColors[3])\n",
    "    ax2.set_title('Velocidad vs tiempo', fontsize = 20)\n",
    "    ax2.set_xlabel(r'Tiempo $t(s)$', fontsize = 14)\n",
    "    ax2.set_ylabel(r'Velocidad $v(m/s)$', fontsize = 14)\n",
    "    ax2.grid(True)\n",
    "        \n",
    "    # Mostrando los resultados en el notebook\n",
    "    plt.show()"
   ]
  },
  {
   "cell_type": "code",
   "execution_count": 4,
   "metadata": {},
   "outputs": [
    {
     "data": {
      "application/vnd.jupyter.widget-view+json": {
       "model_id": "99451fbd500c46bbb479f74bbeb8a9e5",
       "version_major": 2,
       "version_minor": 0
      },
      "text/plain": [
       "interactive(children=(FloatText(value=1000.0, description='$\\\\rho_f \\\\ (kg/m^3)$'), FloatText(value=2200.0, de…"
      ]
     },
     "metadata": {},
     "output_type": "display_data"
    }
   ],
   "source": [
    "# ===========================================================================\n",
    "# Funcion que corre todo lo que he progrmado y hace que salgan los sliders \n",
    "# para determinar los diferentes parámetros que gobiernan el fenómeno de la \n",
    "# caída libre de cuerpos en un fluido (desde el reposo)\n",
    "# ===========================================================================\n",
    "\n",
    "# Descripción de los sliders \n",
    "DESCR = [r\"$\\rho_f \\ (kg/m^3)$\",\\\n",
    "         r\"$\\rho_p \\ (kg/m^3)$\",\\\n",
    "         r\"$\\nu_f \\ (m^2/s)$\",\\\n",
    "         r\"$D_p \\ (mm)$\"]\n",
    "\n",
    "# Correr todo y poner los sliders en la pantalla\n",
    "interact_manual(RUN_ALL, \\\n",
    "rho_f=widgets.FloatText(description=DESCR[0], min=600, max=2000, value=1000 , readout_format='E'),\\\n",
    "rho_p=widgets.FloatText(description=DESCR[1], min=2000, max=1e4, value=2200 , readout_format='E'),\\\n",
    "nu=widgets.FloatText(description=DESCR[2], min=1e-8, max=0.1, value=1.14e-6 , readout_format='E'),\\\n",
    "D=widgets.FloatText(description=DESCR[3], min=0.1, max=100 , value=10, readout_format='E'));"
   ]
  },
  {
   "cell_type": "markdown",
   "metadata": {},
   "source": [
    "Para poder ejecutar de forma correcta la práctica usted deberá correr este notebook en línea o tener unas especificaciones similares a las descritas a continuación: "
   ]
  },
  {
   "cell_type": "code",
   "execution_count": 5,
   "metadata": {},
   "outputs": [
    {
     "ename": "ModuleNotFoundError",
     "evalue": "No module named 'watermark'",
     "output_type": "error",
     "traceback": [
      "\u001b[1;31m---------------------------------------------------------------------------\u001b[0m",
      "\u001b[1;31mModuleNotFoundError\u001b[0m                       Traceback (most recent call last)",
      "\u001b[1;32m<ipython-input-5-8ecd322b6de3>\u001b[0m in \u001b[0;36m<module>\u001b[1;34m\u001b[0m\n\u001b[0;32m      1\u001b[0m \u001b[1;31m# Imprimiendo las dependencias para que esto pueda funcionar.\u001b[0m\u001b[1;33m\u001b[0m\u001b[1;33m\u001b[0m\u001b[1;33m\u001b[0m\u001b[0m\n\u001b[1;32m----> 2\u001b[1;33m \u001b[0mget_ipython\u001b[0m\u001b[1;33m(\u001b[0m\u001b[1;33m)\u001b[0m\u001b[1;33m.\u001b[0m\u001b[0mrun_line_magic\u001b[0m\u001b[1;33m(\u001b[0m\u001b[1;34m'load_ext'\u001b[0m\u001b[1;33m,\u001b[0m \u001b[1;34m'watermark'\u001b[0m\u001b[1;33m)\u001b[0m\u001b[1;33m\u001b[0m\u001b[1;33m\u001b[0m\u001b[0m\n\u001b[0m\u001b[0;32m      3\u001b[0m \u001b[1;33m\u001b[0m\u001b[0m\n\u001b[0;32m      4\u001b[0m \u001b[1;31m# python, ipython, packages, and machine characteristics\u001b[0m\u001b[1;33m\u001b[0m\u001b[1;33m\u001b[0m\u001b[1;33m\u001b[0m\u001b[0m\n\u001b[0;32m      5\u001b[0m \u001b[0mget_ipython\u001b[0m\u001b[1;33m(\u001b[0m\u001b[1;33m)\u001b[0m\u001b[1;33m.\u001b[0m\u001b[0mrun_line_magic\u001b[0m\u001b[1;33m(\u001b[0m\u001b[1;34m'watermark'\u001b[0m\u001b[1;33m,\u001b[0m \u001b[1;34m'-v -m -p numpy,matplotlib,watermark '\u001b[0m\u001b[1;33m)\u001b[0m\u001b[1;33m\u001b[0m\u001b[1;33m\u001b[0m\u001b[0m\n",
      "\u001b[1;32m~\\anaconda3\\lib\\site-packages\\IPython\\core\\interactiveshell.py\u001b[0m in \u001b[0;36mrun_line_magic\u001b[1;34m(self, magic_name, line, _stack_depth)\u001b[0m\n\u001b[0;32m   2324\u001b[0m                 \u001b[0mkwargs\u001b[0m\u001b[1;33m[\u001b[0m\u001b[1;34m'local_ns'\u001b[0m\u001b[1;33m]\u001b[0m \u001b[1;33m=\u001b[0m \u001b[0msys\u001b[0m\u001b[1;33m.\u001b[0m\u001b[0m_getframe\u001b[0m\u001b[1;33m(\u001b[0m\u001b[0mstack_depth\u001b[0m\u001b[1;33m)\u001b[0m\u001b[1;33m.\u001b[0m\u001b[0mf_locals\u001b[0m\u001b[1;33m\u001b[0m\u001b[1;33m\u001b[0m\u001b[0m\n\u001b[0;32m   2325\u001b[0m             \u001b[1;32mwith\u001b[0m \u001b[0mself\u001b[0m\u001b[1;33m.\u001b[0m\u001b[0mbuiltin_trap\u001b[0m\u001b[1;33m:\u001b[0m\u001b[1;33m\u001b[0m\u001b[1;33m\u001b[0m\u001b[0m\n\u001b[1;32m-> 2326\u001b[1;33m                 \u001b[0mresult\u001b[0m \u001b[1;33m=\u001b[0m \u001b[0mfn\u001b[0m\u001b[1;33m(\u001b[0m\u001b[1;33m*\u001b[0m\u001b[0margs\u001b[0m\u001b[1;33m,\u001b[0m \u001b[1;33m**\u001b[0m\u001b[0mkwargs\u001b[0m\u001b[1;33m)\u001b[0m\u001b[1;33m\u001b[0m\u001b[1;33m\u001b[0m\u001b[0m\n\u001b[0m\u001b[0;32m   2327\u001b[0m             \u001b[1;32mreturn\u001b[0m \u001b[0mresult\u001b[0m\u001b[1;33m\u001b[0m\u001b[1;33m\u001b[0m\u001b[0m\n\u001b[0;32m   2328\u001b[0m \u001b[1;33m\u001b[0m\u001b[0m\n",
      "\u001b[1;32m<decorator-gen-65>\u001b[0m in \u001b[0;36mload_ext\u001b[1;34m(self, module_str)\u001b[0m\n",
      "\u001b[1;32m~\\anaconda3\\lib\\site-packages\\IPython\\core\\magic.py\u001b[0m in \u001b[0;36m<lambda>\u001b[1;34m(f, *a, **k)\u001b[0m\n\u001b[0;32m    185\u001b[0m     \u001b[1;31m# but it's overkill for just that one bit of state.\u001b[0m\u001b[1;33m\u001b[0m\u001b[1;33m\u001b[0m\u001b[1;33m\u001b[0m\u001b[0m\n\u001b[0;32m    186\u001b[0m     \u001b[1;32mdef\u001b[0m \u001b[0mmagic_deco\u001b[0m\u001b[1;33m(\u001b[0m\u001b[0marg\u001b[0m\u001b[1;33m)\u001b[0m\u001b[1;33m:\u001b[0m\u001b[1;33m\u001b[0m\u001b[1;33m\u001b[0m\u001b[0m\n\u001b[1;32m--> 187\u001b[1;33m         \u001b[0mcall\u001b[0m \u001b[1;33m=\u001b[0m \u001b[1;32mlambda\u001b[0m \u001b[0mf\u001b[0m\u001b[1;33m,\u001b[0m \u001b[1;33m*\u001b[0m\u001b[0ma\u001b[0m\u001b[1;33m,\u001b[0m \u001b[1;33m**\u001b[0m\u001b[0mk\u001b[0m\u001b[1;33m:\u001b[0m \u001b[0mf\u001b[0m\u001b[1;33m(\u001b[0m\u001b[1;33m*\u001b[0m\u001b[0ma\u001b[0m\u001b[1;33m,\u001b[0m \u001b[1;33m**\u001b[0m\u001b[0mk\u001b[0m\u001b[1;33m)\u001b[0m\u001b[1;33m\u001b[0m\u001b[1;33m\u001b[0m\u001b[0m\n\u001b[0m\u001b[0;32m    188\u001b[0m \u001b[1;33m\u001b[0m\u001b[0m\n\u001b[0;32m    189\u001b[0m         \u001b[1;32mif\u001b[0m \u001b[0mcallable\u001b[0m\u001b[1;33m(\u001b[0m\u001b[0marg\u001b[0m\u001b[1;33m)\u001b[0m\u001b[1;33m:\u001b[0m\u001b[1;33m\u001b[0m\u001b[1;33m\u001b[0m\u001b[0m\n",
      "\u001b[1;32m~\\anaconda3\\lib\\site-packages\\IPython\\core\\magics\\extension.py\u001b[0m in \u001b[0;36mload_ext\u001b[1;34m(self, module_str)\u001b[0m\n\u001b[0;32m     31\u001b[0m         \u001b[1;32mif\u001b[0m \u001b[1;32mnot\u001b[0m \u001b[0mmodule_str\u001b[0m\u001b[1;33m:\u001b[0m\u001b[1;33m\u001b[0m\u001b[1;33m\u001b[0m\u001b[0m\n\u001b[0;32m     32\u001b[0m             \u001b[1;32mraise\u001b[0m \u001b[0mUsageError\u001b[0m\u001b[1;33m(\u001b[0m\u001b[1;34m'Missing module name.'\u001b[0m\u001b[1;33m)\u001b[0m\u001b[1;33m\u001b[0m\u001b[1;33m\u001b[0m\u001b[0m\n\u001b[1;32m---> 33\u001b[1;33m         \u001b[0mres\u001b[0m \u001b[1;33m=\u001b[0m \u001b[0mself\u001b[0m\u001b[1;33m.\u001b[0m\u001b[0mshell\u001b[0m\u001b[1;33m.\u001b[0m\u001b[0mextension_manager\u001b[0m\u001b[1;33m.\u001b[0m\u001b[0mload_extension\u001b[0m\u001b[1;33m(\u001b[0m\u001b[0mmodule_str\u001b[0m\u001b[1;33m)\u001b[0m\u001b[1;33m\u001b[0m\u001b[1;33m\u001b[0m\u001b[0m\n\u001b[0m\u001b[0;32m     34\u001b[0m \u001b[1;33m\u001b[0m\u001b[0m\n\u001b[0;32m     35\u001b[0m         \u001b[1;32mif\u001b[0m \u001b[0mres\u001b[0m \u001b[1;33m==\u001b[0m \u001b[1;34m'already loaded'\u001b[0m\u001b[1;33m:\u001b[0m\u001b[1;33m\u001b[0m\u001b[1;33m\u001b[0m\u001b[0m\n",
      "\u001b[1;32m~\\anaconda3\\lib\\site-packages\\IPython\\core\\extensions.py\u001b[0m in \u001b[0;36mload_extension\u001b[1;34m(self, module_str)\u001b[0m\n\u001b[0;32m     78\u001b[0m             \u001b[1;32mif\u001b[0m \u001b[0mmodule_str\u001b[0m \u001b[1;32mnot\u001b[0m \u001b[1;32min\u001b[0m \u001b[0msys\u001b[0m\u001b[1;33m.\u001b[0m\u001b[0mmodules\u001b[0m\u001b[1;33m:\u001b[0m\u001b[1;33m\u001b[0m\u001b[1;33m\u001b[0m\u001b[0m\n\u001b[0;32m     79\u001b[0m                 \u001b[1;32mwith\u001b[0m \u001b[0mprepended_to_syspath\u001b[0m\u001b[1;33m(\u001b[0m\u001b[0mself\u001b[0m\u001b[1;33m.\u001b[0m\u001b[0mipython_extension_dir\u001b[0m\u001b[1;33m)\u001b[0m\u001b[1;33m:\u001b[0m\u001b[1;33m\u001b[0m\u001b[1;33m\u001b[0m\u001b[0m\n\u001b[1;32m---> 80\u001b[1;33m                     \u001b[0mmod\u001b[0m \u001b[1;33m=\u001b[0m \u001b[0mimport_module\u001b[0m\u001b[1;33m(\u001b[0m\u001b[0mmodule_str\u001b[0m\u001b[1;33m)\u001b[0m\u001b[1;33m\u001b[0m\u001b[1;33m\u001b[0m\u001b[0m\n\u001b[0m\u001b[0;32m     81\u001b[0m                     \u001b[1;32mif\u001b[0m \u001b[0mmod\u001b[0m\u001b[1;33m.\u001b[0m\u001b[0m__file__\u001b[0m\u001b[1;33m.\u001b[0m\u001b[0mstartswith\u001b[0m\u001b[1;33m(\u001b[0m\u001b[0mself\u001b[0m\u001b[1;33m.\u001b[0m\u001b[0mipython_extension_dir\u001b[0m\u001b[1;33m)\u001b[0m\u001b[1;33m:\u001b[0m\u001b[1;33m\u001b[0m\u001b[1;33m\u001b[0m\u001b[0m\n\u001b[0;32m     82\u001b[0m                         print((\"Loading extensions from {dir} is deprecated. \"\n",
      "\u001b[1;32m~\\anaconda3\\lib\\importlib\\__init__.py\u001b[0m in \u001b[0;36mimport_module\u001b[1;34m(name, package)\u001b[0m\n\u001b[0;32m    125\u001b[0m                 \u001b[1;32mbreak\u001b[0m\u001b[1;33m\u001b[0m\u001b[1;33m\u001b[0m\u001b[0m\n\u001b[0;32m    126\u001b[0m             \u001b[0mlevel\u001b[0m \u001b[1;33m+=\u001b[0m \u001b[1;36m1\u001b[0m\u001b[1;33m\u001b[0m\u001b[1;33m\u001b[0m\u001b[0m\n\u001b[1;32m--> 127\u001b[1;33m     \u001b[1;32mreturn\u001b[0m \u001b[0m_bootstrap\u001b[0m\u001b[1;33m.\u001b[0m\u001b[0m_gcd_import\u001b[0m\u001b[1;33m(\u001b[0m\u001b[0mname\u001b[0m\u001b[1;33m[\u001b[0m\u001b[0mlevel\u001b[0m\u001b[1;33m:\u001b[0m\u001b[1;33m]\u001b[0m\u001b[1;33m,\u001b[0m \u001b[0mpackage\u001b[0m\u001b[1;33m,\u001b[0m \u001b[0mlevel\u001b[0m\u001b[1;33m)\u001b[0m\u001b[1;33m\u001b[0m\u001b[1;33m\u001b[0m\u001b[0m\n\u001b[0m\u001b[0;32m    128\u001b[0m \u001b[1;33m\u001b[0m\u001b[0m\n\u001b[0;32m    129\u001b[0m \u001b[1;33m\u001b[0m\u001b[0m\n",
      "\u001b[1;32m~\\anaconda3\\lib\\importlib\\_bootstrap.py\u001b[0m in \u001b[0;36m_gcd_import\u001b[1;34m(name, package, level)\u001b[0m\n",
      "\u001b[1;32m~\\anaconda3\\lib\\importlib\\_bootstrap.py\u001b[0m in \u001b[0;36m_find_and_load\u001b[1;34m(name, import_)\u001b[0m\n",
      "\u001b[1;32m~\\anaconda3\\lib\\importlib\\_bootstrap.py\u001b[0m in \u001b[0;36m_find_and_load_unlocked\u001b[1;34m(name, import_)\u001b[0m\n",
      "\u001b[1;31mModuleNotFoundError\u001b[0m: No module named 'watermark'"
     ]
    }
   ],
   "source": [
    "# Imprimiendo las dependencias para que esto pueda funcionar. \n",
    "%load_ext watermark\n",
    "\n",
    "# python, ipython, packages, and machine characteristics\n",
    "%watermark -v -m -p numpy,matplotlib,watermark \n",
    "\n",
    "# date\n",
    "print (\" \")\n",
    "%watermark -u -n -t -z"
   ]
  }
 ],
 "metadata": {
  "kernelspec": {
   "display_name": "Python 3",
   "language": "python",
   "name": "python3"
  },
  "language_info": {
   "codemirror_mode": {
    "name": "ipython",
    "version": 3
   },
   "file_extension": ".py",
   "mimetype": "text/x-python",
   "name": "python",
   "nbconvert_exporter": "python",
   "pygments_lexer": "ipython3",
   "version": "3.8.3"
  }
 },
 "nbformat": 4,
 "nbformat_minor": 4
}
